{
 "cells": [
  {
   "cell_type": "code",
   "execution_count": 145,
   "id": "9d26808a-fce5-402b-8d35-4525291a31b8",
   "metadata": {},
   "outputs": [],
   "source": [
    "import pandas as pd\n",
    "import warnings\n",
    "warnings.filterwarnings(\"ignore\")"
   ]
  },
  {
   "cell_type": "code",
   "execution_count": 146,
   "id": "af84c74b-ba71-4826-b08f-17cb15f6ab66",
   "metadata": {},
   "outputs": [],
   "source": [
    "df = pd.read_csv(\"test.csv\")"
   ]
  },
  {
   "cell_type": "code",
   "execution_count": 147,
   "id": "7c61378c-8151-4f9c-b2b5-593da2679f3e",
   "metadata": {},
   "outputs": [
    {
     "data": {
      "text/html": [
       "<div>\n",
       "<style scoped>\n",
       "    .dataframe tbody tr th:only-of-type {\n",
       "        vertical-align: middle;\n",
       "    }\n",
       "\n",
       "    .dataframe tbody tr th {\n",
       "        vertical-align: top;\n",
       "    }\n",
       "\n",
       "    .dataframe thead th {\n",
       "        text-align: right;\n",
       "    }\n",
       "</style>\n",
       "<table border=\"1\" class=\"dataframe\">\n",
       "  <thead>\n",
       "    <tr style=\"text-align: right;\">\n",
       "      <th></th>\n",
       "      <th>trip_ID</th>\n",
       "      <th>visitor_nation</th>\n",
       "      <th>age_bracket</th>\n",
       "      <th>travelling_with</th>\n",
       "      <th>female_count</th>\n",
       "      <th>male_count</th>\n",
       "      <th>key_activity</th>\n",
       "      <th>trip_purpose</th>\n",
       "      <th>first_time_visitor</th>\n",
       "      <th>mainland_nights</th>\n",
       "      <th>...</th>\n",
       "      <th>package_accomodation</th>\n",
       "      <th>food_package</th>\n",
       "      <th>transport_package_mx</th>\n",
       "      <th>sightseeing_package</th>\n",
       "      <th>guided_tour_package</th>\n",
       "      <th>insurance_package</th>\n",
       "      <th>days_before_booked</th>\n",
       "      <th>weather_at_arrival</th>\n",
       "      <th>tour_length</th>\n",
       "      <th>special_requirements</th>\n",
       "    </tr>\n",
       "  </thead>\n",
       "  <tbody>\n",
       "    <tr>\n",
       "      <th>0</th>\n",
       "      <td>tour_id8gzpck76</td>\n",
       "      <td>CONGO</td>\n",
       "      <td>25-44</td>\n",
       "      <td>Alone</td>\n",
       "      <td>0.0</td>\n",
       "      <td>1.0</td>\n",
       "      <td>Widlife Tourism</td>\n",
       "      <td>Business</td>\n",
       "      <td>No</td>\n",
       "      <td>14</td>\n",
       "      <td>...</td>\n",
       "      <td>No</td>\n",
       "      <td>No</td>\n",
       "      <td>No</td>\n",
       "      <td>No</td>\n",
       "      <td>No</td>\n",
       "      <td>No</td>\n",
       "      <td>15-30</td>\n",
       "      <td>sunny,</td>\n",
       "      <td>15-30</td>\n",
       "      <td>wheelchair,</td>\n",
       "    </tr>\n",
       "    <tr>\n",
       "      <th>1</th>\n",
       "      <td>tour_idow1zxkou</td>\n",
       "      <td>SWIZERLAND</td>\n",
       "      <td>45-64</td>\n",
       "      <td>With Spouse</td>\n",
       "      <td>1.0</td>\n",
       "      <td>1.0</td>\n",
       "      <td>Widlife Tourism</td>\n",
       "      <td>Leisure and Holidays</td>\n",
       "      <td>Yes</td>\n",
       "      <td>8</td>\n",
       "      <td>...</td>\n",
       "      <td>Yes</td>\n",
       "      <td>Yes</td>\n",
       "      <td>No</td>\n",
       "      <td>No</td>\n",
       "      <td>Yes</td>\n",
       "      <td>No</td>\n",
       "      <td>61-90</td>\n",
       "      <td>Stormy</td>\n",
       "      <td>1-6</td>\n",
       "      <td>NaN</td>\n",
       "    </tr>\n",
       "    <tr>\n",
       "      <th>2</th>\n",
       "      <td>tour_idue7esfqz</td>\n",
       "      <td>MEXICO</td>\n",
       "      <td>45-64</td>\n",
       "      <td>With Other Friends/Relatives</td>\n",
       "      <td>2.0</td>\n",
       "      <td>0.0</td>\n",
       "      <td>Cultural Tourism</td>\n",
       "      <td>Leisure and Holidays</td>\n",
       "      <td>Yes</td>\n",
       "      <td>3</td>\n",
       "      <td>...</td>\n",
       "      <td>Yes</td>\n",
       "      <td>Yes</td>\n",
       "      <td>Yes</td>\n",
       "      <td>Yes</td>\n",
       "      <td>Yes</td>\n",
       "      <td>No</td>\n",
       "      <td>1-7</td>\n",
       "      <td>Stormy</td>\n",
       "      <td>30+</td>\n",
       "      <td>none</td>\n",
       "    </tr>\n",
       "    <tr>\n",
       "      <th>3</th>\n",
       "      <td>tour_idnj3mjzpb</td>\n",
       "      <td>JAPAN</td>\n",
       "      <td>25-44</td>\n",
       "      <td>With Other Friends/Relatives</td>\n",
       "      <td>1.0</td>\n",
       "      <td>1.0</td>\n",
       "      <td>Widlife Tourism</td>\n",
       "      <td>Leisure and Holidays</td>\n",
       "      <td>Yes</td>\n",
       "      <td>5</td>\n",
       "      <td>...</td>\n",
       "      <td>Yes</td>\n",
       "      <td>Yes</td>\n",
       "      <td>Yes</td>\n",
       "      <td>Yes</td>\n",
       "      <td>Yes</td>\n",
       "      <td>No</td>\n",
       "      <td>90+</td>\n",
       "      <td>sunny,</td>\n",
       "      <td>7-14</td>\n",
       "      <td>NaN</td>\n",
       "    </tr>\n",
       "    <tr>\n",
       "      <th>4</th>\n",
       "      <td>tour_ida3us5yk2</td>\n",
       "      <td>SPAIN</td>\n",
       "      <td>25-44</td>\n",
       "      <td>With Other Friends/Relatives</td>\n",
       "      <td>2.0</td>\n",
       "      <td>0.0</td>\n",
       "      <td>Wildlife Tourism</td>\n",
       "      <td>Leisure and Holidays</td>\n",
       "      <td>Yes</td>\n",
       "      <td>0</td>\n",
       "      <td>...</td>\n",
       "      <td>Yes</td>\n",
       "      <td>Yes</td>\n",
       "      <td>No</td>\n",
       "      <td>Yes</td>\n",
       "      <td>No</td>\n",
       "      <td>Yes</td>\n",
       "      <td>61-90</td>\n",
       "      <td>Stormy</td>\n",
       "      <td>30+</td>\n",
       "      <td>dietary needs,</td>\n",
       "    </tr>\n",
       "  </tbody>\n",
       "</table>\n",
       "<p>5 rows × 24 columns</p>\n",
       "</div>"
      ],
      "text/plain": [
       "           trip_ID visitor_nation age_bracket               travelling_with  \\\n",
       "0  tour_id8gzpck76          CONGO       25-44                         Alone   \n",
       "1  tour_idow1zxkou     SWIZERLAND       45-64                   With Spouse   \n",
       "2  tour_idue7esfqz         MEXICO       45-64  With Other Friends/Relatives   \n",
       "3  tour_idnj3mjzpb          JAPAN       25-44  With Other Friends/Relatives   \n",
       "4  tour_ida3us5yk2          SPAIN       25-44  With Other Friends/Relatives   \n",
       "\n",
       "   female_count  male_count      key_activity          trip_purpose  \\\n",
       "0           0.0         1.0   Widlife Tourism              Business   \n",
       "1           1.0         1.0   Widlife Tourism  Leisure and Holidays   \n",
       "2           2.0         0.0  Cultural Tourism  Leisure and Holidays   \n",
       "3           1.0         1.0   Widlife Tourism  Leisure and Holidays   \n",
       "4           2.0         0.0  Wildlife Tourism  Leisure and Holidays   \n",
       "\n",
       "  first_time_visitor  mainland_nights  ...  package_accomodation food_package  \\\n",
       "0                 No               14  ...                    No           No   \n",
       "1                Yes                8  ...                   Yes          Yes   \n",
       "2                Yes                3  ...                   Yes          Yes   \n",
       "3                Yes                5  ...                   Yes          Yes   \n",
       "4                Yes                0  ...                   Yes          Yes   \n",
       "\n",
       "  transport_package_mx sightseeing_package guided_tour_package  \\\n",
       "0                   No                  No                  No   \n",
       "1                   No                  No                 Yes   \n",
       "2                  Yes                 Yes                 Yes   \n",
       "3                  Yes                 Yes                 Yes   \n",
       "4                   No                 Yes                  No   \n",
       "\n",
       "  insurance_package days_before_booked weather_at_arrival tour_length  \\\n",
       "0                No             15-30              sunny,       15-30   \n",
       "1                No              61-90             Stormy         1-6   \n",
       "2                No               1-7              Stormy         30+   \n",
       "3                No                90+             sunny,        7-14   \n",
       "4               Yes              61-90             Stormy         30+   \n",
       "\n",
       "  special_requirements  \n",
       "0          wheelchair,  \n",
       "1                  NaN  \n",
       "2                 none  \n",
       "3                  NaN  \n",
       "4       dietary needs,  \n",
       "\n",
       "[5 rows x 24 columns]"
      ]
     },
     "execution_count": 147,
     "metadata": {},
     "output_type": "execute_result"
    }
   ],
   "source": [
    "df.head()"
   ]
  },
  {
   "cell_type": "code",
   "execution_count": 148,
   "id": "a4c1b07d-d7b7-45d4-9908-383e171f0202",
   "metadata": {},
   "outputs": [
    {
     "data": {
      "text/plain": [
       "trip_ID                               0\n",
       "visitor_nation                      126\n",
       "age_bracket                           0\n",
       "travelling_with                     338\n",
       "female_count                          0\n",
       "male_count                            2\n",
       "key_activity                         65\n",
       "trip_purpose                          0\n",
       "first_time_visitor                   39\n",
       "mainland_nights                       0\n",
       "island_nights                         0\n",
       "tour_arrangement                      0\n",
       "transport_package_international      57\n",
       "source_of_info                        0\n",
       "package_accomodation                 62\n",
       "food_package                         78\n",
       "transport_package_mx                  0\n",
       "sightseeing_package                   0\n",
       "guided_tour_package                   0\n",
       "insurance_package                   107\n",
       "days_before_booked                  667\n",
       "weather_at_arrival                 1593\n",
       "tour_length                         153\n",
       "special_requirements               3726\n",
       "dtype: int64"
      ]
     },
     "execution_count": 148,
     "metadata": {},
     "output_type": "execute_result"
    }
   ],
   "source": [
    "df.isna().sum()"
   ]
  },
  {
   "cell_type": "code",
   "execution_count": 149,
   "id": "9240a2cd-8fbf-415a-91e6-00f8e51c3099",
   "metadata": {},
   "outputs": [],
   "source": [
    "df.special_requirements.fillna('none', inplace=True)\n",
    "df.female_count.fillna(0, inplace=True)\n",
    "df.male_count.fillna(0, inplace=True)\n",
    "df.age_bracket.fillna('25-44', inplace=True)\n",
    "df.first_time_visitor.fillna('Yes', inplace=True)\n",
    "df.transport_package_international.fillna('No', inplace=True)"
   ]
  },
  {
   "cell_type": "code",
   "execution_count": 150,
   "id": "21e61eac-c69b-4264-ab81-3f9a7afac05a",
   "metadata": {},
   "outputs": [
    {
     "data": {
      "text/plain": [
       "(5852, 24)"
      ]
     },
     "execution_count": 150,
     "metadata": {},
     "output_type": "execute_result"
    }
   ],
   "source": [
    "df.shape"
   ]
  },
  {
   "cell_type": "code",
   "execution_count": 151,
   "id": "2dc11311-e5dd-411e-90ed-91bbf4e17e7b",
   "metadata": {},
   "outputs": [
    {
     "data": {
      "text/plain": [
       "trip_ID                               0\n",
       "visitor_nation                      126\n",
       "age_bracket                           0\n",
       "travelling_with                     338\n",
       "female_count                          0\n",
       "male_count                            0\n",
       "key_activity                         65\n",
       "trip_purpose                          0\n",
       "first_time_visitor                    0\n",
       "mainland_nights                       0\n",
       "island_nights                         0\n",
       "tour_arrangement                      0\n",
       "transport_package_international       0\n",
       "source_of_info                        0\n",
       "package_accomodation                 62\n",
       "food_package                         78\n",
       "transport_package_mx                  0\n",
       "sightseeing_package                   0\n",
       "guided_tour_package                   0\n",
       "insurance_package                   107\n",
       "days_before_booked                  667\n",
       "weather_at_arrival                 1593\n",
       "tour_length                         153\n",
       "special_requirements                  0\n",
       "dtype: int64"
      ]
     },
     "execution_count": 151,
     "metadata": {},
     "output_type": "execute_result"
    }
   ],
   "source": [
    "df.isna().sum()"
   ]
  },
  {
   "cell_type": "code",
   "execution_count": 152,
   "id": "f8cba0bb-6200-43b1-9d12-7af63abdd81f",
   "metadata": {},
   "outputs": [],
   "source": [
    "df['total_travellers'] = df['female_count'] + df['male_count'] "
   ]
  },
  {
   "cell_type": "code",
   "execution_count": 153,
   "id": "cf4cccb7-36bd-4909-8655-68ea88b0463b",
   "metadata": {},
   "outputs": [],
   "source": [
    "df.loc[(df['travelling_with'].isna()) & (df['total_travellers'] == 1), 'travelling_with'] = 'Alone'\n",
    "df.loc[(df['travelling_with'].isna()) & (df['total_travellers'] == 2), 'travelling_with'] = 'With Spouse'\n",
    "\n",
    "df.loc[(df.total_travellers == 0) & (df.travelling_with == 'With Spouse'), 'female_count'] = 1\n",
    "df.loc[(df.total_travellers == 0) & (df.travelling_with.isin(['With Spouse', 'Alone'])), 'male_count'] = 1\n",
    "\n",
    "df.loc[(df.total_travellers == 0) & (df.travelling_with.isin(['With Spouse and Children', 'With Other Friends/Relatives'])), 'female_count'] = 2\n",
    "df.loc[(df.total_travellers == 0) & (df.travelling_with.isin(['With Spouse and Children', 'With Other Friends/Relatives'])), 'male_count'] = 2"
   ]
  },
  {
   "cell_type": "code",
   "execution_count": 154,
   "id": "99d85a98",
   "metadata": {},
   "outputs": [],
   "source": [
    "df.loc[df['travelling_with'].isna(), 'travelling_with'] = 'Alone'\n",
    "\n"
   ]
  },
  {
   "cell_type": "code",
   "execution_count": 155,
   "id": "53d6ffcf-775e-47a4-9f99-91c7fed127f4",
   "metadata": {},
   "outputs": [
    {
     "data": {
      "text/plain": [
       "trip_ID                               0\n",
       "visitor_nation                      126\n",
       "age_bracket                           0\n",
       "travelling_with                       0\n",
       "female_count                          0\n",
       "male_count                            0\n",
       "key_activity                         65\n",
       "trip_purpose                          0\n",
       "first_time_visitor                    0\n",
       "mainland_nights                       0\n",
       "island_nights                         0\n",
       "tour_arrangement                      0\n",
       "transport_package_international       0\n",
       "source_of_info                        0\n",
       "package_accomodation                 62\n",
       "food_package                         78\n",
       "transport_package_mx                  0\n",
       "sightseeing_package                   0\n",
       "guided_tour_package                   0\n",
       "insurance_package                   107\n",
       "days_before_booked                  667\n",
       "weather_at_arrival                 1593\n",
       "tour_length                         153\n",
       "special_requirements                  0\n",
       "total_travellers                      0\n",
       "dtype: int64"
      ]
     },
     "execution_count": 155,
     "metadata": {},
     "output_type": "execute_result"
    }
   ],
   "source": [
    "df.isna().sum()"
   ]
  },
  {
   "cell_type": "code",
   "execution_count": 156,
   "id": "73beeeb8-88d8-4008-b1ed-296b89a991cf",
   "metadata": {},
   "outputs": [],
   "source": [
    "df.replace(\"Widlife Tourism\", \"Wildlife Tourism\", inplace=True)"
   ]
  },
  {
   "cell_type": "code",
   "execution_count": 157,
   "id": "50596b07",
   "metadata": {},
   "outputs": [],
   "source": [
    "spending = pd.read_csv(\"country_wise_spending.csv\")"
   ]
  },
  {
   "cell_type": "code",
   "execution_count": 158,
   "id": "250c8de9",
   "metadata": {},
   "outputs": [],
   "source": [
    "import numpy as np\n",
    "\n",
    "def str_toupper(st):\n",
    "    return st.upper()\n",
    "\n",
    "spending.replace('..', np.nan, inplace=True)\n",
    "spending['Country Name'] = spending['Country Name'].map(str_toupper)\n",
    "spending['2019 [YR2019]'].fillna(spending['2018 [YR2018]'], inplace=True)"
   ]
  },
  {
   "cell_type": "code",
   "execution_count": 159,
   "id": "ea713d26",
   "metadata": {},
   "outputs": [
    {
     "data": {
      "text/plain": [
       "(5852, 25)"
      ]
     },
     "execution_count": 159,
     "metadata": {},
     "output_type": "execute_result"
    }
   ],
   "source": [
    "df.shape"
   ]
  },
  {
   "cell_type": "code",
   "execution_count": 160,
   "id": "de6efb3f",
   "metadata": {},
   "outputs": [],
   "source": [
    "spending = spending[['Country Name', '2019 [YR2019]']]\n",
    "spending.columns = ['visitor_nation', 'spending']\n",
    "\n",
    "df = pd.merge(df, spending, on='visitor_nation', how='left')"
   ]
  },
  {
   "cell_type": "code",
   "execution_count": 161,
   "id": "0126fefc",
   "metadata": {},
   "outputs": [
    {
     "data": {
      "text/plain": [
       "(5852, 26)"
      ]
     },
     "execution_count": 161,
     "metadata": {},
     "output_type": "execute_result"
    }
   ],
   "source": [
    "df.shape"
   ]
  },
  {
   "cell_type": "code",
   "execution_count": 162,
   "id": "6408888e",
   "metadata": {},
   "outputs": [
    {
     "data": {
      "text/plain": [
       "array(['CONGO', 'SWIZERLAND', 'SPAIN', 'UNITED STATES OF AMERICA', 'UAE',\n",
       "       'KENYA', 'RUSSIA', 'UNITED KINGDOM', 'CANADA', 'BURUNDI', 'DRC',\n",
       "       'SWEDEN', 'ERITREA', nan, 'SWAZILAND', 'KOREA', 'TRINIDAD TOBACCO',\n",
       "       'UNITED ARAB EMIRATES', 'SAUD ARABIA', 'CHINA', 'LATVIA',\n",
       "       'VIETNAM', 'IRAN', 'SLOVAKIA', 'MACEDONIA', 'SCOTLAND', 'BARBADOS',\n",
       "       'GAMBIA', 'COSTARICA', 'LITHUANIA', 'EGYPT', 'CZECH REPUBLIC',\n",
       "       'PHILIPINES', 'BOSNIA', 'VENEZUELA', 'TURKEY', 'UKRAIN', 'COMORO',\n",
       "       'MORROCO', 'YEMEN', 'TAIWAN', 'SOMALI', 'CAPE VERDE', 'ICELAND',\n",
       "       'BURGARIA', 'MALT'], dtype=object)"
      ]
     },
     "execution_count": 162,
     "metadata": {},
     "output_type": "execute_result"
    }
   ],
   "source": [
    "df[df['spending'].isna()]['visitor_nation'].unique()"
   ]
  },
  {
   "cell_type": "code",
   "execution_count": 163,
   "id": "95c9facf",
   "metadata": {},
   "outputs": [
    {
     "data": {
      "text/plain": [
       "count    3094.000000\n",
       "mean        6.646242\n",
       "std         2.794376\n",
       "min         0.157818\n",
       "25%         5.646109\n",
       "50%         6.317842\n",
       "75%         6.664603\n",
       "max        26.551575\n",
       "Name: spending, dtype: float64"
      ]
     },
     "execution_count": 163,
     "metadata": {},
     "output_type": "execute_result"
    }
   ],
   "source": [
    "df['spending'] = pd.to_numeric(df['spending'], errors='coerce')\n",
    "df['spending'].describe()"
   ]
  },
  {
   "cell_type": "code",
   "execution_count": null,
   "id": "de184abc",
   "metadata": {},
   "outputs": [],
   "source": [
    "high_income_countries = [\n",
    "    'BARBADOS', 'BURGARIA', 'CANADA', 'CZECH REPUBLIC', 'ICELAND', 'KOREA', 'LATVIA', 'LITHUANIA', \n",
    "    'MALT', 'RUSSIA', 'SAUD ARABIA', 'SCOTLAND', 'SLOVAKIA', 'SPAIN', 'SWEDEN', 'SWIZERLAND', 'TAIWAN', \n",
    "    'TRINIDAD TOBACCO', 'UAE', 'UNITED ARAB EMIRATES', 'UNITED KINGDOM', 'UNITED STATES OF AMERICA'\n",
    "]\n",
    "\n",
    "upper_middle_income_countries = ['BOSNIA', 'CHINA', 'COSTARICA', 'IRAN', 'TURKEY', 'UKRAIN']\n",
    "\n",
    "lower_middle_income_countries = [\n",
    "    'CAPE VERDE', 'COMORO', 'EGYPT', 'KENYA', 'MACEDONIA', \n",
    "    'MORROCO', 'PHILIPINES', 'SWAZILAND', 'VENEZUELA', 'VIETNAM'\n",
    "]\n",
    "\n",
    "low_income_countries = ['BURUNDI', 'CONGO', 'DRC', 'ERITREA', 'GAMBIA', 'SOMALI', 'YEMEN']\n",
    "\n",
    "df.loc[df['visitor_nation'].isin(high_income_countries), 'spending'] = 10.49669737\n",
    "df.loc[df['visitor_nation'].isin(upper_middle_income_countries), 'spending'] = 8.356929506\n",
    "df.loc[df['visitor_nation'].isin(lower_middle_income_countries), 'spending'] = 7.781739015\n",
    "df.loc[df['visitor_nation'].isin(low_income_countries), 'spending'] = 4.263060223\n"
   ]
  },
  {
   "cell_type": "code",
   "execution_count": 165,
   "id": "fbf3d1c6",
   "metadata": {},
   "outputs": [
    {
     "data": {
      "text/plain": [
       "(5852, 26)"
      ]
     },
     "execution_count": 165,
     "metadata": {},
     "output_type": "execute_result"
    }
   ],
   "source": [
    "df.shape"
   ]
  },
  {
   "cell_type": "code",
   "execution_count": 166,
   "id": "d7fb45ae",
   "metadata": {},
   "outputs": [],
   "source": [
    "df.loc[df['spending'].isna(), 'spending'] = df['spending'].median()"
   ]
  },
  {
   "cell_type": "code",
   "execution_count": null,
   "id": "69f89551-106b-4e93-9649-0c30ad429f70",
   "metadata": {},
   "outputs": [],
   "source": [
    "# gdp was not used\n",
    "# gdp = pd.read_csv('GDP.csv')"
   ]
  },
  {
   "cell_type": "code",
   "execution_count": 168,
   "id": "037cfea8-5038-4ebb-b8a5-7f90249f32ee",
   "metadata": {},
   "outputs": [],
   "source": [
    "# gdp['Country '] = gdp['Country '].map(lambda x : x.upper())"
   ]
  },
  {
   "cell_type": "code",
   "execution_count": 169,
   "id": "78c0396a-6774-4396-af97-b26fd7ce6eb4",
   "metadata": {},
   "outputs": [],
   "source": [
    "# gdp = gdp[['Country ', '2018']]\n",
    "# gdp.loc[gdp['Country '] == 'BERMUDA', '2018'] = 111540"
   ]
  },
  {
   "cell_type": "code",
   "execution_count": 170,
   "id": "d536efd6-56b5-46ba-9caf-de9145b0fa6a",
   "metadata": {},
   "outputs": [],
   "source": [
    "# gdp.columns = ['country_name', 'gdp']"
   ]
  },
  {
   "cell_type": "code",
   "execution_count": 171,
   "id": "16dec024-8139-4fa6-a2fb-468e76342d00",
   "metadata": {},
   "outputs": [],
   "source": [
    "# gdp_map = gdp.set_index('country_name').to_dict('dict')['gdp']\n",
    "# df['gdp'] = df['visitor_nation'].map(gdp_map)"
   ]
  },
  {
   "cell_type": "code",
   "execution_count": 172,
   "id": "a909d3f4-a9d8-42ab-a499-b89567bbc93f",
   "metadata": {},
   "outputs": [
    {
     "data": {
      "text/plain": [
       "(5852, 26)"
      ]
     },
     "execution_count": 172,
     "metadata": {},
     "output_type": "execute_result"
    }
   ],
   "source": [
    "df.shape"
   ]
  },
  {
   "cell_type": "code",
   "execution_count": 173,
   "id": "3eb98531-9abb-44f2-80c8-87d556468d74",
   "metadata": {},
   "outputs": [],
   "source": [
    "# df[df.gdp.isna()]"
   ]
  },
  {
   "cell_type": "code",
   "execution_count": 174,
   "id": "d366c755-f0a0-4668-b930-66ff99d57e53",
   "metadata": {},
   "outputs": [],
   "source": [
    "# df.loc[df.gdp.isna(), \"gdp\"] = 580"
   ]
  },
  {
   "cell_type": "code",
   "execution_count": 175,
   "id": "01c92b17",
   "metadata": {},
   "outputs": [
    {
     "data": {
      "text/plain": [
       "(5852, 26)"
      ]
     },
     "execution_count": 175,
     "metadata": {},
     "output_type": "execute_result"
    }
   ],
   "source": [
    "df.shape"
   ]
  },
  {
   "cell_type": "code",
   "execution_count": 176,
   "id": "af243918-e22e-4913-9889-f44b0c2b9aa7",
   "metadata": {},
   "outputs": [],
   "source": [
    "df.fillna('unknown', inplace=True)"
   ]
  },
  {
   "cell_type": "code",
   "execution_count": 177,
   "id": "3251e886-3bc8-4955-b0a0-dddd7f8bb560",
   "metadata": {},
   "outputs": [],
   "source": [
    "\n",
    "# decided based on the spending distribution seen above\n",
    "\n",
    "# Using midpoints of the range\n",
    "age_bracket_ordinal_mapping = {'<18':9, '18-24':21, '25-44':35, '45-64':55, '65+':70}\n",
    "\n",
    "travelling_with_ordinal_mapping = {\n",
    "    'Alone': 1,\n",
    "    'With Spouse': 2,\n",
    "    'With Other Friends/Relatives': 3,\n",
    "    'With Children': 3,\n",
    "    'With Spouse and Children': 3,\n",
    "    'unknown': 3\n",
    "} \n",
    "\n",
    "key_activity_ordinal_mapping = {\n",
    "    \"Wildlife Tourism\": 1,\n",
    "    \"Conference Tourism\": 2,\n",
    "    \"Business\": 2,\n",
    "    \"Beach Tourism\": 3,\n",
    "    \"Mountain Climbing\": 4,\n",
    "    \"Cultural Tourism\": 5,\n",
    "    \"Bird Tourism\": 5,\n",
    "    \"Hunting Tourism\": 6,\n",
    "    \"Diving and Sport Fishing\": 4,\n",
    "    \"Other\": 4,\n",
    "    \"unknown\": 4 # give a neutral medium value\n",
    "}\n",
    "\n",
    "trip_purpose_mapping = {\n",
    "    \"Business\": 1,                  \n",
    "    \"Meetings and Conference\": 2,\n",
    "    \"Scientific and Academic\": 2,\n",
    "    \"Volunteering\": 3,\n",
    "    \"Visiting Friends and Relatives\": 4,  \n",
    "    \"Leisure and Holidays\": 5,\n",
    "    \"Other\": 3,\n",
    "    \"Medical\": 5,\n",
    "    \"unknown\": 3\n",
    "}\n",
    "\n",
    "\n",
    "transport_package_international_ordinal_mapping = {'No':0, 'Yes':1}\n",
    "\n",
    "first_time_visitor_ordinal_mapping = {'No':0, 'Yes':1}\n",
    "\n",
    "tour_arrangement_ordinal_mapping = {'Independent':0, 'Package Tour':1}\n",
    "\n",
    "transport_package_international_ordinal_mapping = {'No':0, 'Yes':1}\n",
    "\n",
    "source_of_info_mapping = {\n",
    "    \"Inflight magazines\": 1,\n",
    "    \"Trade fair\": 1,\n",
    "    \"Mexican Mission Abroad\": 2,\n",
    "    \"Others\": 3,\n",
    "    \"Radio, TV, Web\": 4,\n",
    "    \"Friends, relatives\": 4,\n",
    "    \"Newspaper, magazines, brochures\": 5,\n",
    "    \"Travel agent, tour operator\": 5,      \n",
    "    \"unknown\": 3\n",
    "}\n",
    "\n",
    "\n",
    "package_accomodation_ordinal_mapping = {'No':0, 'unknown': 1, 'Yes':2}\n",
    "\n",
    "food_package_ordinal_mapping = {'No':0, 'unknown': 1, 'Yes':2}\n",
    "\n",
    "transport_package_mx_ordinal_mapping = {'No':0, 'Yes':1}\n",
    "\n",
    "sightseeing_package_ordinal_mapping = {'No':0, 'Yes':1}\n",
    "\n",
    "guided_tour_package_ordinal_mapping = {'No':0, 'Yes':1}\n",
    "\n",
    "insurance_package_ordinal_mapping = {'No':0, 'unknown': 1, 'Yes':2}\n",
    "\n",
    "\n",
    "days_before_booked_ordinal_mapping = {\n",
    "    \"31-60\": 45,\n",
    "    \"8-14\": 11,\n",
    "    \"61-90\": 75,\n",
    "    \"15-30 \": 22,\n",
    "    \"90+\": 100,\n",
    "    \"1-7 \": 4,\n",
    "    \"unknown\": 22 \n",
    "}\n",
    "\n",
    "\n",
    "weather_at_arrival_ordinal_mapping = {\n",
    "     \"cloudy,\": 1,\n",
    "    \"Windy,\": 2,\n",
    "    \"humid\": 2,\n",
    "    \"sunny,\": 2,\n",
    "    \"other\": 2,\n",
    "    \"Rainy\": 3,\n",
    "    \"Stormy\": 3,\n",
    "    \"unknown\": 2\n",
    "}\n",
    "\n",
    "\n",
    "tour_length_ordinal_mapping = {\n",
    "    \"7-14\": 10,\n",
    "    \"1-6\": 3,\n",
    "    \"30+\": 40,\n",
    "    \"15-30\": 22,\n",
    "    \"unknown\": 20\n",
    "}\n",
    "\n",
    "special_requirements_ordinal_mapping = {\n",
    "    \"none\": 1,\n",
    "    \"wheelchair,\": 2,\n",
    "    \"dietary needs,\": 2,\n",
    "    \"translator required.\": 2    \n",
    "}\n",
    "\n",
    "first_time_visitor_ordinal_mapping = {'No':0, 'Yes':1}"
   ]
  },
  {
   "cell_type": "code",
   "execution_count": 178,
   "id": "2a87e067-797a-4bc3-b74c-5bca632e2a09",
   "metadata": {},
   "outputs": [],
   "source": [
    "df['age_bracket'] = df['age_bracket'].map(age_bracket_ordinal_mapping)\n",
    "df['travelling_with'] = df['travelling_with'].map(travelling_with_ordinal_mapping)\n",
    "df['key_activity'] = df['key_activity'].map(key_activity_ordinal_mapping)\n",
    "df['trip_purpose'] = df['trip_purpose'].map(trip_purpose_mapping)\n",
    "df['first_time_visitor'] = df['first_time_visitor'].map(first_time_visitor_ordinal_mapping)\n",
    "df['tour_arrangement'] = df['tour_arrangement'].map(tour_arrangement_ordinal_mapping)\n",
    "df['transport_package_international'] = df['transport_package_international'].map(transport_package_international_ordinal_mapping)\n",
    "df['source_of_info'] = df['source_of_info'].map(source_of_info_mapping)\n",
    "df['package_accomodation'] = df['package_accomodation'].map(package_accomodation_ordinal_mapping)\n",
    "df['food_package'] = df['food_package'].map(food_package_ordinal_mapping)\n",
    "df['transport_package_mx'] = df['transport_package_mx'].map(transport_package_mx_ordinal_mapping)\n",
    "df['sightseeing_package'] = df['sightseeing_package'].map(sightseeing_package_ordinal_mapping)\n",
    "df['guided_tour_package'] = df['guided_tour_package'].map(guided_tour_package_ordinal_mapping)\n",
    "df['insurance_package'] = df['insurance_package'].map(insurance_package_ordinal_mapping)\n",
    "df['days_before_booked'] = df['days_before_booked'].map(days_before_booked_ordinal_mapping)\n",
    "df['weather_at_arrival'] = df['weather_at_arrival'].map(weather_at_arrival_ordinal_mapping)\n",
    "df['tour_length'] = df['tour_length'].map(tour_length_ordinal_mapping)\n",
    "df['special_requirements'] = df['special_requirements'].map(special_requirements_ordinal_mapping)"
   ]
  },
  {
   "cell_type": "code",
   "execution_count": 179,
   "id": "423fb030",
   "metadata": {},
   "outputs": [],
   "source": [
    "df['total_nights'] = df['mainland_nights'] + df['island_nights']\n",
    "df['booked_late'] = df['days_before_booked'].map(lambda x: int(x == '1-7 '))\n",
    "df['ratio'] = df['male_count']/df['female_count']\n",
    "df['total_travellers'] = df['male_count'] + df['female_count']"
   ]
  },
  {
   "cell_type": "code",
   "execution_count": 180,
   "id": "63a4a7ae",
   "metadata": {},
   "outputs": [
    {
     "data": {
      "text/plain": [
       "(5852, 29)"
      ]
     },
     "execution_count": 180,
     "metadata": {},
     "output_type": "execute_result"
    }
   ],
   "source": [
    "df.shape"
   ]
  },
  {
   "cell_type": "code",
   "execution_count": 181,
   "id": "0ab01190",
   "metadata": {},
   "outputs": [],
   "source": [
    "import numpy as np\n",
    "df['ratio'].fillna(12, inplace=True)\n",
    "df['ratio'].replace(np.inf, 12, inplace=True)"
   ]
  },
  {
   "cell_type": "code",
   "execution_count": null,
   "id": "4bfc701c",
   "metadata": {},
   "outputs": [],
   "source": []
  },
  {
   "cell_type": "code",
   "execution_count": 182,
   "id": "3f4298dd-24f6-411d-b734-f9f67dfb8726",
   "metadata": {},
   "outputs": [
    {
     "data": {
      "text/html": [
       "<div>\n",
       "<style scoped>\n",
       "    .dataframe tbody tr th:only-of-type {\n",
       "        vertical-align: middle;\n",
       "    }\n",
       "\n",
       "    .dataframe tbody tr th {\n",
       "        vertical-align: top;\n",
       "    }\n",
       "\n",
       "    .dataframe thead th {\n",
       "        text-align: right;\n",
       "    }\n",
       "</style>\n",
       "<table border=\"1\" class=\"dataframe\">\n",
       "  <thead>\n",
       "    <tr style=\"text-align: right;\">\n",
       "      <th></th>\n",
       "      <th>trip_ID</th>\n",
       "      <th>visitor_nation</th>\n",
       "      <th>age_bracket</th>\n",
       "      <th>travelling_with</th>\n",
       "      <th>female_count</th>\n",
       "      <th>male_count</th>\n",
       "      <th>key_activity</th>\n",
       "      <th>trip_purpose</th>\n",
       "      <th>first_time_visitor</th>\n",
       "      <th>mainland_nights</th>\n",
       "      <th>...</th>\n",
       "      <th>insurance_package</th>\n",
       "      <th>days_before_booked</th>\n",
       "      <th>weather_at_arrival</th>\n",
       "      <th>tour_length</th>\n",
       "      <th>special_requirements</th>\n",
       "      <th>total_travellers</th>\n",
       "      <th>spending</th>\n",
       "      <th>total_nights</th>\n",
       "      <th>booked_late</th>\n",
       "      <th>ratio</th>\n",
       "    </tr>\n",
       "  </thead>\n",
       "  <tbody>\n",
       "    <tr>\n",
       "      <th>0</th>\n",
       "      <td>tour_id8gzpck76</td>\n",
       "      <td>CONGO</td>\n",
       "      <td>35</td>\n",
       "      <td>1</td>\n",
       "      <td>0.0</td>\n",
       "      <td>1.0</td>\n",
       "      <td>1</td>\n",
       "      <td>1</td>\n",
       "      <td>0</td>\n",
       "      <td>14</td>\n",
       "      <td>...</td>\n",
       "      <td>0</td>\n",
       "      <td>22</td>\n",
       "      <td>2</td>\n",
       "      <td>22</td>\n",
       "      <td>2</td>\n",
       "      <td>1.0</td>\n",
       "      <td>4.263060</td>\n",
       "      <td>14</td>\n",
       "      <td>0</td>\n",
       "      <td>12.0</td>\n",
       "    </tr>\n",
       "    <tr>\n",
       "      <th>1</th>\n",
       "      <td>tour_idow1zxkou</td>\n",
       "      <td>SWIZERLAND</td>\n",
       "      <td>55</td>\n",
       "      <td>2</td>\n",
       "      <td>1.0</td>\n",
       "      <td>1.0</td>\n",
       "      <td>1</td>\n",
       "      <td>5</td>\n",
       "      <td>1</td>\n",
       "      <td>8</td>\n",
       "      <td>...</td>\n",
       "      <td>0</td>\n",
       "      <td>75</td>\n",
       "      <td>3</td>\n",
       "      <td>3</td>\n",
       "      <td>1</td>\n",
       "      <td>2.0</td>\n",
       "      <td>10.496697</td>\n",
       "      <td>13</td>\n",
       "      <td>0</td>\n",
       "      <td>1.0</td>\n",
       "    </tr>\n",
       "    <tr>\n",
       "      <th>2</th>\n",
       "      <td>tour_idue7esfqz</td>\n",
       "      <td>MEXICO</td>\n",
       "      <td>55</td>\n",
       "      <td>3</td>\n",
       "      <td>2.0</td>\n",
       "      <td>0.0</td>\n",
       "      <td>5</td>\n",
       "      <td>5</td>\n",
       "      <td>1</td>\n",
       "      <td>3</td>\n",
       "      <td>...</td>\n",
       "      <td>0</td>\n",
       "      <td>4</td>\n",
       "      <td>3</td>\n",
       "      <td>40</td>\n",
       "      <td>1</td>\n",
       "      <td>2.0</td>\n",
       "      <td>2.414758</td>\n",
       "      <td>9</td>\n",
       "      <td>0</td>\n",
       "      <td>0.0</td>\n",
       "    </tr>\n",
       "    <tr>\n",
       "      <th>3</th>\n",
       "      <td>tour_idnj3mjzpb</td>\n",
       "      <td>JAPAN</td>\n",
       "      <td>35</td>\n",
       "      <td>3</td>\n",
       "      <td>1.0</td>\n",
       "      <td>1.0</td>\n",
       "      <td>1</td>\n",
       "      <td>5</td>\n",
       "      <td>1</td>\n",
       "      <td>5</td>\n",
       "      <td>...</td>\n",
       "      <td>0</td>\n",
       "      <td>100</td>\n",
       "      <td>2</td>\n",
       "      <td>10</td>\n",
       "      <td>1</td>\n",
       "      <td>2.0</td>\n",
       "      <td>3.191467</td>\n",
       "      <td>5</td>\n",
       "      <td>0</td>\n",
       "      <td>1.0</td>\n",
       "    </tr>\n",
       "    <tr>\n",
       "      <th>4</th>\n",
       "      <td>tour_ida3us5yk2</td>\n",
       "      <td>SPAIN</td>\n",
       "      <td>35</td>\n",
       "      <td>3</td>\n",
       "      <td>2.0</td>\n",
       "      <td>0.0</td>\n",
       "      <td>1</td>\n",
       "      <td>5</td>\n",
       "      <td>1</td>\n",
       "      <td>0</td>\n",
       "      <td>...</td>\n",
       "      <td>2</td>\n",
       "      <td>75</td>\n",
       "      <td>3</td>\n",
       "      <td>40</td>\n",
       "      <td>2</td>\n",
       "      <td>2.0</td>\n",
       "      <td>10.496697</td>\n",
       "      <td>6</td>\n",
       "      <td>0</td>\n",
       "      <td>0.0</td>\n",
       "    </tr>\n",
       "    <tr>\n",
       "      <th>5</th>\n",
       "      <td>tour_id2qpfclyc</td>\n",
       "      <td>ZIMBABWE</td>\n",
       "      <td>35</td>\n",
       "      <td>1</td>\n",
       "      <td>0.0</td>\n",
       "      <td>1.0</td>\n",
       "      <td>5</td>\n",
       "      <td>1</td>\n",
       "      <td>1</td>\n",
       "      <td>3</td>\n",
       "      <td>...</td>\n",
       "      <td>0</td>\n",
       "      <td>45</td>\n",
       "      <td>3</td>\n",
       "      <td>3</td>\n",
       "      <td>1</td>\n",
       "      <td>1.0</td>\n",
       "      <td>4.760583</td>\n",
       "      <td>3</td>\n",
       "      <td>0</td>\n",
       "      <td>12.0</td>\n",
       "    </tr>\n",
       "    <tr>\n",
       "      <th>6</th>\n",
       "      <td>tour_idope4voz1</td>\n",
       "      <td>ARGENTINA</td>\n",
       "      <td>35</td>\n",
       "      <td>3</td>\n",
       "      <td>2.0</td>\n",
       "      <td>2.0</td>\n",
       "      <td>3</td>\n",
       "      <td>5</td>\n",
       "      <td>1</td>\n",
       "      <td>4</td>\n",
       "      <td>...</td>\n",
       "      <td>0</td>\n",
       "      <td>75</td>\n",
       "      <td>1</td>\n",
       "      <td>3</td>\n",
       "      <td>1</td>\n",
       "      <td>4.0</td>\n",
       "      <td>14.788070</td>\n",
       "      <td>11</td>\n",
       "      <td>0</td>\n",
       "      <td>1.0</td>\n",
       "    </tr>\n",
       "    <tr>\n",
       "      <th>7</th>\n",
       "      <td>tour_iddyjku73v</td>\n",
       "      <td>ITALY</td>\n",
       "      <td>55</td>\n",
       "      <td>2</td>\n",
       "      <td>1.0</td>\n",
       "      <td>1.0</td>\n",
       "      <td>1</td>\n",
       "      <td>4</td>\n",
       "      <td>0</td>\n",
       "      <td>11</td>\n",
       "      <td>...</td>\n",
       "      <td>0</td>\n",
       "      <td>100</td>\n",
       "      <td>2</td>\n",
       "      <td>10</td>\n",
       "      <td>1</td>\n",
       "      <td>2.0</td>\n",
       "      <td>6.664603</td>\n",
       "      <td>11</td>\n",
       "      <td>0</td>\n",
       "      <td>1.0</td>\n",
       "    </tr>\n",
       "    <tr>\n",
       "      <th>8</th>\n",
       "      <td>tour_idlu2iemeg</td>\n",
       "      <td>UNITED STATES OF AMERICA</td>\n",
       "      <td>70</td>\n",
       "      <td>2</td>\n",
       "      <td>1.0</td>\n",
       "      <td>1.0</td>\n",
       "      <td>1</td>\n",
       "      <td>5</td>\n",
       "      <td>1</td>\n",
       "      <td>12</td>\n",
       "      <td>...</td>\n",
       "      <td>2</td>\n",
       "      <td>11</td>\n",
       "      <td>2</td>\n",
       "      <td>40</td>\n",
       "      <td>2</td>\n",
       "      <td>2.0</td>\n",
       "      <td>10.496697</td>\n",
       "      <td>12</td>\n",
       "      <td>0</td>\n",
       "      <td>1.0</td>\n",
       "    </tr>\n",
       "    <tr>\n",
       "      <th>9</th>\n",
       "      <td>tour_idw5htzhxs</td>\n",
       "      <td>ZIMBABWE</td>\n",
       "      <td>35</td>\n",
       "      <td>1</td>\n",
       "      <td>0.0</td>\n",
       "      <td>1.0</td>\n",
       "      <td>3</td>\n",
       "      <td>1</td>\n",
       "      <td>0</td>\n",
       "      <td>3</td>\n",
       "      <td>...</td>\n",
       "      <td>0</td>\n",
       "      <td>100</td>\n",
       "      <td>2</td>\n",
       "      <td>10</td>\n",
       "      <td>1</td>\n",
       "      <td>1.0</td>\n",
       "      <td>4.760583</td>\n",
       "      <td>3</td>\n",
       "      <td>0</td>\n",
       "      <td>12.0</td>\n",
       "    </tr>\n",
       "  </tbody>\n",
       "</table>\n",
       "<p>10 rows × 29 columns</p>\n",
       "</div>"
      ],
      "text/plain": [
       "           trip_ID            visitor_nation  age_bracket  travelling_with  \\\n",
       "0  tour_id8gzpck76                     CONGO           35                1   \n",
       "1  tour_idow1zxkou                SWIZERLAND           55                2   \n",
       "2  tour_idue7esfqz                    MEXICO           55                3   \n",
       "3  tour_idnj3mjzpb                     JAPAN           35                3   \n",
       "4  tour_ida3us5yk2                     SPAIN           35                3   \n",
       "5  tour_id2qpfclyc                  ZIMBABWE           35                1   \n",
       "6  tour_idope4voz1                 ARGENTINA           35                3   \n",
       "7  tour_iddyjku73v                     ITALY           55                2   \n",
       "8  tour_idlu2iemeg  UNITED STATES OF AMERICA           70                2   \n",
       "9  tour_idw5htzhxs                  ZIMBABWE           35                1   \n",
       "\n",
       "   female_count  male_count  key_activity  trip_purpose  first_time_visitor  \\\n",
       "0           0.0         1.0             1             1                   0   \n",
       "1           1.0         1.0             1             5                   1   \n",
       "2           2.0         0.0             5             5                   1   \n",
       "3           1.0         1.0             1             5                   1   \n",
       "4           2.0         0.0             1             5                   1   \n",
       "5           0.0         1.0             5             1                   1   \n",
       "6           2.0         2.0             3             5                   1   \n",
       "7           1.0         1.0             1             4                   0   \n",
       "8           1.0         1.0             1             5                   1   \n",
       "9           0.0         1.0             3             1                   0   \n",
       "\n",
       "   mainland_nights  ...  insurance_package  days_before_booked  \\\n",
       "0               14  ...                  0                  22   \n",
       "1                8  ...                  0                  75   \n",
       "2                3  ...                  0                   4   \n",
       "3                5  ...                  0                 100   \n",
       "4                0  ...                  2                  75   \n",
       "5                3  ...                  0                  45   \n",
       "6                4  ...                  0                  75   \n",
       "7               11  ...                  0                 100   \n",
       "8               12  ...                  2                  11   \n",
       "9                3  ...                  0                 100   \n",
       "\n",
       "   weather_at_arrival  tour_length  special_requirements  total_travellers  \\\n",
       "0                   2           22                     2               1.0   \n",
       "1                   3            3                     1               2.0   \n",
       "2                   3           40                     1               2.0   \n",
       "3                   2           10                     1               2.0   \n",
       "4                   3           40                     2               2.0   \n",
       "5                   3            3                     1               1.0   \n",
       "6                   1            3                     1               4.0   \n",
       "7                   2           10                     1               2.0   \n",
       "8                   2           40                     2               2.0   \n",
       "9                   2           10                     1               1.0   \n",
       "\n",
       "    spending  total_nights  booked_late  ratio  \n",
       "0   4.263060            14            0   12.0  \n",
       "1  10.496697            13            0    1.0  \n",
       "2   2.414758             9            0    0.0  \n",
       "3   3.191467             5            0    1.0  \n",
       "4  10.496697             6            0    0.0  \n",
       "5   4.760583             3            0   12.0  \n",
       "6  14.788070            11            0    1.0  \n",
       "7   6.664603            11            0    1.0  \n",
       "8  10.496697            12            0    1.0  \n",
       "9   4.760583             3            0   12.0  \n",
       "\n",
       "[10 rows x 29 columns]"
      ]
     },
     "execution_count": 182,
     "metadata": {},
     "output_type": "execute_result"
    }
   ],
   "source": [
    "df.head(10)"
   ]
  },
  {
   "cell_type": "code",
   "execution_count": 184,
   "id": "cfe6bafd-ece2-4e84-ac1f-d1376b248a73",
   "metadata": {},
   "outputs": [
    {
     "data": {
      "text/plain": [
       "trip_ID                            0\n",
       "visitor_nation                     0\n",
       "age_bracket                        0\n",
       "travelling_with                    0\n",
       "female_count                       0\n",
       "male_count                         0\n",
       "key_activity                       0\n",
       "trip_purpose                       0\n",
       "first_time_visitor                 0\n",
       "mainland_nights                    0\n",
       "island_nights                      0\n",
       "tour_arrangement                   0\n",
       "transport_package_international    0\n",
       "source_of_info                     0\n",
       "package_accomodation               0\n",
       "food_package                       0\n",
       "transport_package_mx               0\n",
       "sightseeing_package                0\n",
       "guided_tour_package                0\n",
       "insurance_package                  0\n",
       "days_before_booked                 0\n",
       "weather_at_arrival                 0\n",
       "tour_length                        0\n",
       "special_requirements               0\n",
       "total_travellers                   0\n",
       "spending                           0\n",
       "total_nights                       0\n",
       "booked_late                        0\n",
       "ratio                              0\n",
       "dtype: int64"
      ]
     },
     "execution_count": 184,
     "metadata": {},
     "output_type": "execute_result"
    }
   ],
   "source": [
    "df.isna().sum()"
   ]
  },
  {
   "cell_type": "code",
   "execution_count": 186,
   "id": "d44d3dec",
   "metadata": {},
   "outputs": [
    {
     "data": {
      "text/plain": [
       "(5852, 29)"
      ]
     },
     "execution_count": 186,
     "metadata": {},
     "output_type": "execute_result"
    }
   ],
   "source": [
    "df.shape"
   ]
  },
  {
   "cell_type": "code",
   "execution_count": 187,
   "id": "c07fb9df",
   "metadata": {},
   "outputs": [
    {
     "data": {
      "text/plain": [
       "Index(['trip_ID', 'visitor_nation', 'age_bracket', 'travelling_with',\n",
       "       'female_count', 'male_count', 'key_activity', 'trip_purpose',\n",
       "       'first_time_visitor', 'mainland_nights', 'island_nights',\n",
       "       'tour_arrangement', 'transport_package_international', 'source_of_info',\n",
       "       'package_accomodation', 'food_package', 'transport_package_mx',\n",
       "       'sightseeing_package', 'guided_tour_package', 'insurance_package',\n",
       "       'days_before_booked', 'weather_at_arrival', 'tour_length',\n",
       "       'special_requirements', 'total_travellers', 'spending', 'total_nights',\n",
       "       'booked_late', 'ratio'],\n",
       "      dtype='object')"
      ]
     },
     "execution_count": 187,
     "metadata": {},
     "output_type": "execute_result"
    }
   ],
   "source": [
    "df.columns"
   ]
  },
  {
   "cell_type": "code",
   "execution_count": 188,
   "id": "e532a853",
   "metadata": {},
   "outputs": [],
   "source": [
    "features = ['age_bracket', 'travelling_with',\n",
    "       'female_count', 'male_count', 'key_activity', 'trip_purpose',\n",
    "       'first_time_visitor', 'mainland_nights', 'island_nights',\n",
    "       'tour_arrangement', 'transport_package_international', 'source_of_info',\n",
    "       'package_accomodation', 'food_package', 'transport_package_mx',\n",
    "       'sightseeing_package', 'guided_tour_package', 'insurance_package',\n",
    "       'days_before_booked', 'weather_at_arrival', 'tour_length',\n",
    "       'special_requirements','total_travellers', 'spending',\n",
    "       'total_nights', 'booked_late', 'ratio']"
   ]
  },
  {
   "cell_type": "code",
   "execution_count": 189,
   "id": "bdad8bf1-2982-4f37-a74a-9366e959aeae",
   "metadata": {},
   "outputs": [],
   "source": [
    "df.to_csv(\"test_preprocessed.csv\", index=False)"
   ]
  },
  {
   "cell_type": "code",
   "execution_count": 190,
   "id": "284eb8af",
   "metadata": {},
   "outputs": [
    {
     "data": {
      "text/plain": [
       "(5852, 29)"
      ]
     },
     "execution_count": 190,
     "metadata": {},
     "output_type": "execute_result"
    }
   ],
   "source": [
    "df.shape"
   ]
  },
  {
   "cell_type": "code",
   "execution_count": null,
   "id": "ed443194",
   "metadata": {},
   "outputs": [],
   "source": []
  }
 ],
 "metadata": {
  "kernelspec": {
   "display_name": "base",
   "language": "python",
   "name": "python3"
  },
  "language_info": {
   "codemirror_mode": {
    "name": "ipython",
    "version": 3
   },
   "file_extension": ".py",
   "mimetype": "text/x-python",
   "name": "python",
   "nbconvert_exporter": "python",
   "pygments_lexer": "ipython3",
   "version": "3.9.13"
  }
 },
 "nbformat": 4,
 "nbformat_minor": 5
}
